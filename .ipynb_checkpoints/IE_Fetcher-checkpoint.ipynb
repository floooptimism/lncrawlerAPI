{
 "cells": [
  {
   "cell_type": "code",
   "execution_count": null,
   "id": "6ce678bd-1355-4971-a0bf-ce3a35c0d422",
   "metadata": {},
   "outputs": [],
   "source": []
  }
 ],
 "metadata": {
  "kernelspec": {
   "display_name": "JavaScript (Node.js)",
   "language": "javascript",
   "name": "javascript"
  },
  "language_info": {
   "file_extension": ".js",
   "mimetype": "application/javascript",
   "name": "javascript",
   "version": "17.3.0"
  }
 },
 "nbformat": 4,
 "nbformat_minor": 5
}
